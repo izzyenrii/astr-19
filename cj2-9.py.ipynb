{
 "cells": [
  {
   "cell_type": "code",
   "execution_count": 5,
   "id": "bb2c127b",
   "metadata": {},
   "outputs": [],
   "source": [
    "import numpy as np\n",
    "import matplotlib.pyplot as plt"
   ]
  },
  {
   "cell_type": "code",
   "execution_count": 8,
   "id": "26e609a4",
   "metadata": {},
   "outputs": [
    {
     "data": {
      "image/png": "[encoded data removed]",
      "text/plain": [
       "<Figure size 432x288 with 1 Axes>"
      ]
     },
     "metadata": {
      "needs_background": "light"
     },
     "output_type": "display_data"
    }
   ],
   "source": [
    "n = 1000\n",
    "\n",
    "x = np.random.randn(n)\n",
    "s = np.random.uniform(-1,0,1000)\n",
    "width = 0.5\n",
    "histmin = np.floor(min(x))\n",
    "histmax = np.ceil(max(x))+width\n",
    "\n",
    "bins = np.arange(histmin,histmax,width)\n",
    "plt.hist(x,bins=bins,alpha=0.5,edgecolor=\"black\")\n",
    "plt.ylabel(\"N per bin\")\n",
    "plt.xlabel(\"x\")\n",
    "plt.savefig(\"example-histo.png\",bbox_inches=\"tight\",facecolor=\"white\")"
   ]
  }
 ],
 "metadata": {
  "kernelspec": {
   "display_name": "Python 3 (ipykernel)",
   "language": "python",
   "name": "python3"
  },
  "language_info": {
   "codemirror_mode": {
    "name": "ipython",
    "version": 3
   },
   "file_extension": ".py",
   "mimetype": "text/x-python",
   "name": "python",
   "nbconvert_exporter": "python",
   "pygments_lexer": "ipython3",
   "version": "3.10.4"
  }
 },
 "nbformat": 4,
 "nbformat_minor": 5
}
